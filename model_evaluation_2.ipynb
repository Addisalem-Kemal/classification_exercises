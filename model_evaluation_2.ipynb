{
 "cells": [
  {
   "cell_type": "code",
   "execution_count": 1,
   "id": "61d135c9-ce0f-4bb8-a195-1c231f4e9801",
   "metadata": {},
   "outputs": [],
   "source": [
    "import pandas as pd\n",
    "import numpy as np\n",
    "from sklearn.metrics import confusion_matrix\n",
    "from sklearn.metrics import classification_report"
   ]
  },
  {
   "cell_type": "markdown",
   "id": "63c75bde-7f48-4681-b7ae-6a386c3e2c5d",
   "metadata": {},
   "source": [
    "Given the following confusion matrix, \n",
    "evaluate (by hand) the model's performance."
   ]
  },
  {
   "cell_type": "markdown",
   "id": "d1923b86-6f46-4080-bce3-70ef06642565",
   "metadata": {},
   "source": [
    "|               | pred dog   | pred cat   |\n",
    "|:------------  |-----------:|-----------:|\n",
    "| actual dog    |         46 |         7  |\n",
    "| actual cat    |         13 |         34 |"
   ]
  },
  {
   "cell_type": "markdown",
   "id": "5c707efa-b4e4-43bf-8f07-bb8feddf4d7b",
   "metadata": {},
   "source": [
    "In the context of this problem, what is a false positive?\n",
    "True positive is predicting a cat and finding a cat"
   ]
  },
  {
   "cell_type": "markdown",
   "id": "9f88834c-a03f-4d6a-b70a-081e4f78d265",
   "metadata": {},
   "source": [
    "In the context of this problem, what is a true negative?\n",
    "True negative is predicting a cat and not getting a cat"
   ]
  },
  {
   "cell_type": "code",
   "execution_count": 34,
   "id": "2cb6ebd7-ab3d-4f2e-bd7e-a0d49d7ee470",
   "metadata": {},
   "outputs": [],
   "source": [
    "TP = 34\n",
    "FP = 7\n",
    "FN = 13\n",
    "TN = 46"
   ]
  },
  {
   "cell_type": "code",
   "execution_count": 35,
   "id": "dfd2762e-1c8c-4c15-b70d-4f135162710c",
   "metadata": {},
   "outputs": [
    {
     "name": "stdout",
     "output_type": "stream",
     "text": [
      "Cat-Finder\n",
      "True Positives 34\n",
      "False Positives 7\n",
      "False Negatives 13\n",
      "True Negatives 46\n",
      "Accuracy is 0.8\n",
      "Recall is 0.72\n",
      "Precision is 0.83\n"
     ]
    }
   ],
   "source": [
    "print(\"Cat-Finder\")\n",
    "print(\"True Positives\", TP)\n",
    "print(\"False Positives\", FP)\n",
    "print(\"False Negatives\", FN)\n",
    "print(\"True Negatives\", TN)\n",
    "\n",
    "accuracy = (TP + TN) / (TP + TN + FP + FN)\n",
    "recall = TP / (TP + FN)\n",
    "precision = TP / (TP + FP)\n",
    "\n",
    "print(\"Accuracy is\", accuracy)\n",
    "print(\"Recall is\", round(recall,2))\n",
    "print(\"Precision is\", round(precision,2))"
   ]
  },
  {
   "cell_type": "code",
   "execution_count": null,
   "id": "48f221d2-b4d4-4268-90b3-ceb1c2e85b97",
   "metadata": {},
   "outputs": [],
   "source": []
  },
  {
   "cell_type": "code",
   "execution_count": null,
   "id": "a6615b60-e02f-4259-852b-753e98740212",
   "metadata": {},
   "outputs": [],
   "source": []
  },
  {
   "cell_type": "code",
   "execution_count": null,
   "id": "d9b68a50-52de-436f-b87a-58b47256622e",
   "metadata": {},
   "outputs": [],
   "source": []
  },
  {
   "cell_type": "markdown",
   "id": "7d97d2ca-34cb-4e2f-b548-2020dbd29fde",
   "metadata": {},
   "source": [
    "You are working as a datascientist working for Codeup Cody Creator \n",
    "(C3 for short), a rubber-duck manufacturing plant.\n",
    "\n",
    "Unfortunately, some of the rubber ducks that are produced will have defects.\n",
    "Your team has built several models that try to predict those defects, and \n",
    "the data from their predictions can be found here.\n",
    "\n",
    "Use the predictions dataset and \n",
    "pandas to help answer the following questions:\n",
    "    "
   ]
  },
  {
   "cell_type": "code",
   "execution_count": 31,
   "id": "1dda7c55-4e31-4a03-afa6-28d02b55a016",
   "metadata": {},
   "outputs": [
    {
     "data": {
      "text/html": [
       "<div>\n",
       "<style scoped>\n",
       "    .dataframe tbody tr th:only-of-type {\n",
       "        vertical-align: middle;\n",
       "    }\n",
       "\n",
       "    .dataframe tbody tr th {\n",
       "        vertical-align: top;\n",
       "    }\n",
       "\n",
       "    .dataframe thead th {\n",
       "        text-align: right;\n",
       "    }\n",
       "</style>\n",
       "<table border=\"1\" class=\"dataframe\">\n",
       "  <thead>\n",
       "    <tr style=\"text-align: right;\">\n",
       "      <th></th>\n",
       "      <th>actual</th>\n",
       "      <th>model1</th>\n",
       "      <th>model2</th>\n",
       "      <th>model3</th>\n",
       "    </tr>\n",
       "  </thead>\n",
       "  <tbody>\n",
       "    <tr>\n",
       "      <th>0</th>\n",
       "      <td>No Defect</td>\n",
       "      <td>No Defect</td>\n",
       "      <td>Defect</td>\n",
       "      <td>No Defect</td>\n",
       "    </tr>\n",
       "    <tr>\n",
       "      <th>1</th>\n",
       "      <td>No Defect</td>\n",
       "      <td>No Defect</td>\n",
       "      <td>Defect</td>\n",
       "      <td>Defect</td>\n",
       "    </tr>\n",
       "    <tr>\n",
       "      <th>2</th>\n",
       "      <td>No Defect</td>\n",
       "      <td>No Defect</td>\n",
       "      <td>Defect</td>\n",
       "      <td>No Defect</td>\n",
       "    </tr>\n",
       "    <tr>\n",
       "      <th>3</th>\n",
       "      <td>No Defect</td>\n",
       "      <td>Defect</td>\n",
       "      <td>Defect</td>\n",
       "      <td>Defect</td>\n",
       "    </tr>\n",
       "    <tr>\n",
       "      <th>4</th>\n",
       "      <td>No Defect</td>\n",
       "      <td>No Defect</td>\n",
       "      <td>Defect</td>\n",
       "      <td>No Defect</td>\n",
       "    </tr>\n",
       "  </tbody>\n",
       "</table>\n",
       "</div>"
      ],
      "text/plain": [
       "      actual     model1  model2     model3\n",
       "0  No Defect  No Defect  Defect  No Defect\n",
       "1  No Defect  No Defect  Defect     Defect\n",
       "2  No Defect  No Defect  Defect  No Defect\n",
       "3  No Defect     Defect  Defect     Defect\n",
       "4  No Defect  No Defect  Defect  No Defect"
      ]
     },
     "execution_count": 31,
     "metadata": {},
     "output_type": "execute_result"
    }
   ],
   "source": [
    "df = pd.read_csv('https://ds.codeup.com/data/c3.csv')\n",
    "df.head()"
   ]
  },
  {
   "cell_type": "markdown",
   "id": "f0cfbe54-9a72-441d-98a2-6390e6def195",
   "metadata": {},
   "source": [
    "An internal team wants to investigate the cause of the manufacturing defects.\n",
    "They tell you that they want to identify as many of the ducks that have a defect as possible. \n",
    "Which evaluation metric would be appropriate here? \n",
    "Which model would be the best fit for this use case?"
   ]
  },
  {
   "cell_type": "code",
   "execution_count": 37,
   "id": "4c92c20a-bd48-45ae-9304-7056a37c8b23",
   "metadata": {},
   "outputs": [
    {
     "name": "stdout",
     "output_type": "stream",
     "text": [
      "<class 'pandas.core.frame.DataFrame'>\n",
      "RangeIndex: 200 entries, 0 to 199\n",
      "Data columns (total 4 columns):\n",
      " #   Column  Non-Null Count  Dtype \n",
      "---  ------  --------------  ----- \n",
      " 0   actual  200 non-null    object\n",
      " 1   model1  200 non-null    object\n",
      " 2   model2  200 non-null    object\n",
      " 3   model3  200 non-null    object\n",
      "dtypes: object(4)\n",
      "memory usage: 6.4+ KB\n"
     ]
    }
   ],
   "source": [
    "df.info()"
   ]
  },
  {
   "cell_type": "code",
   "execution_count": 38,
   "id": "662f95e7-882d-4c9b-8860-55196c77c26b",
   "metadata": {},
   "outputs": [
    {
     "data": {
      "text/plain": [
       "No Defect    184\n",
       "Defect        16\n",
       "Name: actual, dtype: int64"
      ]
     },
     "execution_count": 38,
     "metadata": {},
     "output_type": "execute_result"
    }
   ],
   "source": [
    "df.actual.value_counts()"
   ]
  },
  {
   "cell_type": "code",
   "execution_count": 39,
   "id": "e5746968-5390-4961-98ab-df0c9b97b42f",
   "metadata": {},
   "outputs": [
    {
     "data": {
      "text/html": [
       "<div>\n",
       "<style scoped>\n",
       "    .dataframe tbody tr th:only-of-type {\n",
       "        vertical-align: middle;\n",
       "    }\n",
       "\n",
       "    .dataframe tbody tr th {\n",
       "        vertical-align: top;\n",
       "    }\n",
       "\n",
       "    .dataframe thead th {\n",
       "        text-align: right;\n",
       "    }\n",
       "</style>\n",
       "<table border=\"1\" class=\"dataframe\">\n",
       "  <thead>\n",
       "    <tr style=\"text-align: right;\">\n",
       "      <th></th>\n",
       "      <th>actual</th>\n",
       "      <th>model1</th>\n",
       "      <th>model2</th>\n",
       "      <th>model3</th>\n",
       "      <th>baseline</th>\n",
       "    </tr>\n",
       "  </thead>\n",
       "  <tbody>\n",
       "    <tr>\n",
       "      <th>0</th>\n",
       "      <td>No Defect</td>\n",
       "      <td>No Defect</td>\n",
       "      <td>Defect</td>\n",
       "      <td>No Defect</td>\n",
       "      <td>No Defect</td>\n",
       "    </tr>\n",
       "    <tr>\n",
       "      <th>1</th>\n",
       "      <td>No Defect</td>\n",
       "      <td>No Defect</td>\n",
       "      <td>Defect</td>\n",
       "      <td>Defect</td>\n",
       "      <td>No Defect</td>\n",
       "    </tr>\n",
       "    <tr>\n",
       "      <th>2</th>\n",
       "      <td>No Defect</td>\n",
       "      <td>No Defect</td>\n",
       "      <td>Defect</td>\n",
       "      <td>No Defect</td>\n",
       "      <td>No Defect</td>\n",
       "    </tr>\n",
       "    <tr>\n",
       "      <th>3</th>\n",
       "      <td>No Defect</td>\n",
       "      <td>Defect</td>\n",
       "      <td>Defect</td>\n",
       "      <td>Defect</td>\n",
       "      <td>No Defect</td>\n",
       "    </tr>\n",
       "    <tr>\n",
       "      <th>4</th>\n",
       "      <td>No Defect</td>\n",
       "      <td>No Defect</td>\n",
       "      <td>Defect</td>\n",
       "      <td>No Defect</td>\n",
       "      <td>No Defect</td>\n",
       "    </tr>\n",
       "  </tbody>\n",
       "</table>\n",
       "</div>"
      ],
      "text/plain": [
       "      actual     model1  model2     model3   baseline\n",
       "0  No Defect  No Defect  Defect  No Defect  No Defect\n",
       "1  No Defect  No Defect  Defect     Defect  No Defect\n",
       "2  No Defect  No Defect  Defect  No Defect  No Defect\n",
       "3  No Defect     Defect  Defect     Defect  No Defect\n",
       "4  No Defect  No Defect  Defect  No Defect  No Defect"
      ]
     },
     "execution_count": 39,
     "metadata": {},
     "output_type": "execute_result"
    }
   ],
   "source": [
    "df[\"baseline\"] = df.actual.value_counts().idxmax()\n",
    "df.head()"
   ]
  },
  {
   "cell_type": "code",
   "execution_count": 52,
   "id": "fb4fcafa-21be-472f-80d8-861015b74923",
   "metadata": {},
   "outputs": [
    {
     "name": "stdout",
     "output_type": "stream",
     "text": [
      "              precision    recall  f1-score   support\n",
      "\n",
      "      Defect       0.69      0.82      0.75      1746\n",
      "   No Defect       0.89      0.80      0.84      3254\n",
      "\n",
      "    accuracy                           0.81      5000\n",
      "   macro avg       0.79      0.81      0.80      5000\n",
      "weighted avg       0.82      0.81      0.81      5000\n",
      "\n"
     ]
    }
   ],
   "source": [
    "classes = ['Defect', 'No Defect']\n",
    "print(classification_report(df.actual, df.model1, target_names=classes))"
   ]
  },
  {
   "cell_type": "code",
   "execution_count": 53,
   "id": "22fbfc16-4e4d-4273-83d5-fb9508182d6d",
   "metadata": {},
   "outputs": [
    {
     "name": "stdout",
     "output_type": "stream",
     "text": [
      "              precision    recall  f1-score   support\n",
      "\n",
      "      Defect       0.48      0.89      0.63      1746\n",
      "   No Defect       0.89      0.49      0.63      3254\n",
      "\n",
      "    accuracy                           0.63      5000\n",
      "   macro avg       0.69      0.69      0.63      5000\n",
      "weighted avg       0.75      0.63      0.63      5000\n",
      "\n"
     ]
    }
   ],
   "source": [
    "print(classification_report(df.actual, df.model2, target_names=classes))"
   ]
  },
  {
   "cell_type": "code",
   "execution_count": 54,
   "id": "06e56346-044e-456a-a0fb-746ecdb23360",
   "metadata": {},
   "outputs": [
    {
     "name": "stdout",
     "output_type": "stream",
     "text": [
      "              precision    recall  f1-score   support\n",
      "\n",
      "      Defect       0.36      0.51      0.42      1746\n",
      "   No Defect       0.66      0.51      0.57      3254\n",
      "\n",
      "    accuracy                           0.51      5000\n",
      "   macro avg       0.51      0.51      0.50      5000\n",
      "weighted avg       0.55      0.51      0.52      5000\n",
      "\n"
     ]
    }
   ],
   "source": [
    "print(classification_report(df.actual, df.model3, target_names=classes))"
   ]
  },
  {
   "cell_type": "code",
   "execution_count": null,
   "id": "679d907c-f501-4961-8938-5a9721159657",
   "metadata": {},
   "outputs": [],
   "source": []
  },
  {
   "cell_type": "markdown",
   "id": "08a8ced1-90eb-4051-856a-84b02d7f0dc4",
   "metadata": {},
   "source": [
    "Recently several stories in the local news have come out highlighting customers \n",
    "who received a rubber duck with a defect, and portraying C3 in a bad light. \n",
    "The PR team has decided to launch a program that gives customers with \n",
    "a defective duck a vacation to Hawaii. \n",
    "They need you to predict which ducks will have defects, \n",
    "but tell you the really don't want to accidentally give out a vacation package \n",
    "when the duck really doesn't have a defect. \n",
    "Which evaluation metric would be appropriate here? \n",
    "Which model would be the best fit for this use case?"
   ]
  },
  {
   "cell_type": "markdown",
   "id": "9370809f-df1f-4768-9560-450a681c7d20",
   "metadata": {},
   "source": [
    "false postive when predict defective but it is not defective\n",
    "false negative is when we say not defective but it is"
   ]
  },
  {
   "cell_type": "markdown",
   "id": "a516bd4c-79e1-49c0-a05c-3072575c8519",
   "metadata": {},
   "source": [
    "calculate precision model1 is the answer"
   ]
  },
  {
   "cell_type": "code",
   "execution_count": null,
   "id": "1790c124-7ffd-4c8b-8dd6-35846004e0e5",
   "metadata": {},
   "outputs": [],
   "source": []
  },
  {
   "cell_type": "markdown",
   "id": "fb35342a-2e6b-46dc-891a-0a17453f83bd",
   "metadata": {},
   "source": [
    "You are working as a data scientist for Gives You Paws ™, a subscription based service that shows you cute pictures of dogs or cats (or both for an additional fee).\n",
    "\n",
    "At Gives You Paws, anyone can upload pictures of their cats or dogs. The photos are then put through a two step process. First an automated algorithm tags pictures as either a cat or a dog (Phase I). Next, the photos that have been initially identified are put through another round of review, possibly with some human oversight, before being presented to the users (Phase II).\n",
    "\n",
    "Several models have already been developed with the data, and you can find their results here.\n",
    "\n",
    "Given this dataset, use pandas to create a baseline model (i.e. a model that just predicts the most common class) and answer the following questions:"
   ]
  },
  {
   "cell_type": "code",
   "execution_count": 45,
   "id": "0f0710d4-126f-4545-b0c7-57c8b2fbeca0",
   "metadata": {},
   "outputs": [
    {
     "data": {
      "text/html": [
       "<div>\n",
       "<style scoped>\n",
       "    .dataframe tbody tr th:only-of-type {\n",
       "        vertical-align: middle;\n",
       "    }\n",
       "\n",
       "    .dataframe tbody tr th {\n",
       "        vertical-align: top;\n",
       "    }\n",
       "\n",
       "    .dataframe thead th {\n",
       "        text-align: right;\n",
       "    }\n",
       "</style>\n",
       "<table border=\"1\" class=\"dataframe\">\n",
       "  <thead>\n",
       "    <tr style=\"text-align: right;\">\n",
       "      <th></th>\n",
       "      <th>actual</th>\n",
       "      <th>model1</th>\n",
       "      <th>model2</th>\n",
       "      <th>model3</th>\n",
       "      <th>model4</th>\n",
       "    </tr>\n",
       "  </thead>\n",
       "  <tbody>\n",
       "    <tr>\n",
       "      <th>0</th>\n",
       "      <td>cat</td>\n",
       "      <td>cat</td>\n",
       "      <td>dog</td>\n",
       "      <td>cat</td>\n",
       "      <td>dog</td>\n",
       "    </tr>\n",
       "    <tr>\n",
       "      <th>1</th>\n",
       "      <td>dog</td>\n",
       "      <td>dog</td>\n",
       "      <td>cat</td>\n",
       "      <td>cat</td>\n",
       "      <td>dog</td>\n",
       "    </tr>\n",
       "    <tr>\n",
       "      <th>2</th>\n",
       "      <td>dog</td>\n",
       "      <td>cat</td>\n",
       "      <td>cat</td>\n",
       "      <td>cat</td>\n",
       "      <td>dog</td>\n",
       "    </tr>\n",
       "    <tr>\n",
       "      <th>3</th>\n",
       "      <td>dog</td>\n",
       "      <td>dog</td>\n",
       "      <td>dog</td>\n",
       "      <td>cat</td>\n",
       "      <td>dog</td>\n",
       "    </tr>\n",
       "    <tr>\n",
       "      <th>4</th>\n",
       "      <td>cat</td>\n",
       "      <td>cat</td>\n",
       "      <td>cat</td>\n",
       "      <td>dog</td>\n",
       "      <td>dog</td>\n",
       "    </tr>\n",
       "  </tbody>\n",
       "</table>\n",
       "</div>"
      ],
      "text/plain": [
       "  actual model1 model2 model3 model4\n",
       "0    cat    cat    dog    cat    dog\n",
       "1    dog    dog    cat    cat    dog\n",
       "2    dog    cat    cat    cat    dog\n",
       "3    dog    dog    dog    cat    dog\n",
       "4    cat    cat    cat    dog    dog"
      ]
     },
     "execution_count": 45,
     "metadata": {},
     "output_type": "execute_result"
    }
   ],
   "source": [
    "url = 'https://ds.codeup.com/data/gives_you_paws.csv'\n",
    "\n",
    "df = pd.read_csv(url)\n",
    "df.head()"
   ]
  },
  {
   "cell_type": "code",
   "execution_count": 46,
   "id": "af09786e-a4cf-4708-a9a0-3a44f747edd8",
   "metadata": {},
   "outputs": [],
   "source": [
    "df['baseline'] = df.actual.value_counts().idxmax()"
   ]
  },
  {
   "cell_type": "code",
   "execution_count": 47,
   "id": "c226d1a0-4a72-4ad0-861f-17abf56dd9e2",
   "metadata": {},
   "outputs": [
    {
     "data": {
      "text/plain": [
       "dog    5000\n",
       "Name: baseline, dtype: int64"
      ]
     },
     "execution_count": 47,
     "metadata": {},
     "output_type": "execute_result"
    }
   ],
   "source": [
    "df.baseline.value_counts()"
   ]
  },
  {
   "cell_type": "code",
   "execution_count": 48,
   "id": "5a401745-4860-4af1-a869-140096826e43",
   "metadata": {},
   "outputs": [
    {
     "data": {
      "text/plain": [
       "dog    3254\n",
       "cat    1746\n",
       "Name: actual, dtype: int64"
      ]
     },
     "execution_count": 48,
     "metadata": {},
     "output_type": "execute_result"
    }
   ],
   "source": [
    "df.actual.value_counts()"
   ]
  },
  {
   "cell_type": "code",
   "execution_count": 49,
   "id": "723b02c2-b8f3-48d5-afe6-d36d5cda52ca",
   "metadata": {},
   "outputs": [
    {
     "data": {
      "text/plain": [
       "dog    0.6508\n",
       "cat    0.3492\n",
       "Name: actual, dtype: float64"
      ]
     },
     "execution_count": 49,
     "metadata": {},
     "output_type": "execute_result"
    }
   ],
   "source": [
    "df.actual.value_counts(normalize=True)"
   ]
  },
  {
   "cell_type": "code",
   "execution_count": 55,
   "id": "08f0a8ae-a273-4fb7-a0d7-dddd57104a7c",
   "metadata": {},
   "outputs": [
    {
     "data": {
      "text/plain": [
       "0.6508"
      ]
     },
     "execution_count": 55,
     "metadata": {},
     "output_type": "execute_result"
    }
   ],
   "source": [
    "(df.actual == df.baseline).mean()"
   ]
  },
  {
   "cell_type": "markdown",
   "id": "060a31b7-c0d3-4636-ae73-137f455dd943",
   "metadata": {},
   "source": [
    "In terms of accuracy, how do the various models compare to the baseline model? Are any of the models better than the baseline?"
   ]
  },
  {
   "cell_type": "code",
   "execution_count": 26,
   "id": "8edcd7d9-5d70-4d56-b495-3027df4d3e1f",
   "metadata": {},
   "outputs": [
    {
     "name": "stdout",
     "output_type": "stream",
     "text": [
      "              precision    recall  f1-score   support\n",
      "\n",
      "         cat       0.69      0.82      0.75      1746\n",
      "         dog       0.89      0.80      0.84      3254\n",
      "\n",
      "    accuracy                           0.81      5000\n",
      "   macro avg       0.79      0.81      0.80      5000\n",
      "weighted avg       0.82      0.81      0.81      5000\n",
      "\n"
     ]
    }
   ],
   "source": [
    "confusion_matrix(df.actual, df.model1)\n",
    "\n",
    "classes = ['cat', 'dog']\n",
    "\n",
    "print(classification_report(df.actual, df.model1, target_names=classes))\n",
    "      "
   ]
  },
  {
   "cell_type": "code",
   "execution_count": 27,
   "id": "d3d207c5-d56c-4562-b3d2-e68d321c1ed8",
   "metadata": {},
   "outputs": [
    {
     "name": "stdout",
     "output_type": "stream",
     "text": [
      "              precision    recall  f1-score   support\n",
      "\n",
      "         cat       0.48      0.89      0.63      1746\n",
      "         dog       0.89      0.49      0.63      3254\n",
      "\n",
      "    accuracy                           0.63      5000\n",
      "   macro avg       0.69      0.69      0.63      5000\n",
      "weighted avg       0.75      0.63      0.63      5000\n",
      "\n"
     ]
    }
   ],
   "source": [
    "confusion_matrix(df.actual, df.model2)\n",
    "print(classification_report(df.actual, df.model2, target_names=classes))"
   ]
  },
  {
   "cell_type": "code",
   "execution_count": 30,
   "id": "dd9f43e4-33e8-451a-839f-74abf1b8842b",
   "metadata": {},
   "outputs": [
    {
     "name": "stdout",
     "output_type": "stream",
     "text": [
      "              precision    recall  f1-score   support\n",
      "\n",
      "         cat       0.36      0.51      0.42      1746\n",
      "         dog       0.66      0.51      0.57      3254\n",
      "\n",
      "    accuracy                           0.51      5000\n",
      "   macro avg       0.51      0.51      0.50      5000\n",
      "weighted avg       0.55      0.51      0.52      5000\n",
      "\n"
     ]
    }
   ],
   "source": [
    "confusion_matrix(df.actual, df.model3)\n",
    "print(classification_report(df.actual, df.model3, target_names=classes))"
   ]
  },
  {
   "cell_type": "code",
   "execution_count": 29,
   "id": "bdee3879-9584-4cae-a062-2893562197de",
   "metadata": {},
   "outputs": [
    {
     "name": "stdout",
     "output_type": "stream",
     "text": [
      "              precision    recall  f1-score   support\n",
      "\n",
      "         cat       0.81      0.35      0.48      1746\n",
      "         dog       0.73      0.96      0.83      3254\n",
      "\n",
      "    accuracy                           0.74      5000\n",
      "   macro avg       0.77      0.65      0.66      5000\n",
      "weighted avg       0.76      0.74      0.71      5000\n",
      "\n"
     ]
    }
   ],
   "source": [
    "confusion_matrix(df.actual, df.model4)\n",
    "print(classification_report(df.actual, df.model4, target_names=classes))"
   ]
  },
  {
   "cell_type": "markdown",
   "id": "9fc46941-bef2-492b-8d6c-bf64eaee4343",
   "metadata": {},
   "source": [
    "Suppose you are working on a team that solely deals with dog pictures. Which of these models would you recomend for Phase I? For Phase II?"
   ]
  },
  {
   "cell_type": "markdown",
   "id": "cd73a8f0-b191-4405-94e4-d9dca97ee1da",
   "metadata": {},
   "source": [
    "Phase I: We use the one with the highest recall for dogs so model4 with 0.96"
   ]
  },
  {
   "cell_type": "markdown",
   "id": "dfc7e7fc-29e3-45b9-8e4a-2d2b03ba9142",
   "metadata": {},
   "source": [
    "Suppose you are working on a team that solely deals with cat pictures. Which of these models would you recomend for Phase I? For Phase II?"
   ]
  },
  {
   "cell_type": "markdown",
   "id": "bea7c8a4-0e8c-4051-8975-d008f0632117",
   "metadata": {},
   "source": [
    "Phase I: We use the one with the highest recall for cats so model2 with 0.89"
   ]
  }
 ],
 "metadata": {
  "kernelspec": {
   "display_name": "Python 3 (ipykernel)",
   "language": "python",
   "name": "python3"
  },
  "language_info": {
   "codemirror_mode": {
    "name": "ipython",
    "version": 3
   },
   "file_extension": ".py",
   "mimetype": "text/x-python",
   "name": "python",
   "nbconvert_exporter": "python",
   "pygments_lexer": "ipython3",
   "version": "3.9.12"
  }
 },
 "nbformat": 4,
 "nbformat_minor": 5
}
